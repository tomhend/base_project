{
 "cells": [
  {
   "cell_type": "code",
   "execution_count": 1,
   "metadata": {},
   "outputs": [],
   "source": [
    "%load_ext autoreload\n",
    "%autoreload 2"
   ]
  },
  {
   "cell_type": "code",
   "execution_count": 51,
   "metadata": {},
   "outputs": [],
   "source": [
    "from builders import dataset_builder, model_builder\n",
    "import builders.model_builder\n",
    "from torch.utils.data import DataLoader"
   ]
  },
  {
   "cell_type": "code",
   "execution_count": 43,
   "metadata": {},
   "outputs": [],
   "source": [
    "dataset = dataset_builder.build_dataset('mock_image', size=30, image_size=(3, 256,256))"
   ]
  },
  {
   "cell_type": "code",
   "execution_count": 44,
   "metadata": {},
   "outputs": [],
   "source": [
    "dataloader = DataLoader(dataset, 10, True)"
   ]
  },
  {
   "cell_type": "code",
   "execution_count": 45,
   "metadata": {},
   "outputs": [],
   "source": [
    "model = model_builder.build_model('test_resnet', weights=None)"
   ]
  },
  {
   "cell_type": "code",
   "execution_count": 49,
   "metadata": {},
   "outputs": [
    {
     "name": "stdout",
     "output_type": "stream",
     "text": [
      "torch.Size([10, 1000])\n",
      "torch.Size([10, 1000])\n",
      "torch.Size([10, 1000])\n"
     ]
    }
   ],
   "source": [
    "for batch in dataloader:\n",
    "    img, outcome = batch\n",
    "    print(model(img).shape)"
   ]
  },
  {
   "cell_type": "code",
   "execution_count": 41,
   "metadata": {},
   "outputs": [
    {
     "name": "stdout",
     "output_type": "stream",
     "text": [
      "run register_function\n",
      "run decorate\n"
     ]
    }
   ],
   "source": [
    "from typing import Callable\n",
    "import wandb\n",
    "\n",
    "class RunLogger:\n",
    "    LOG_FUNCTIONS = {}\n",
    "    \n",
    "    def __init__(self, log_cfg: dict) -> None:\n",
    "        wandb.init(**log_cfg['wandb_init']\n",
    "    \n",
    "    def log(self, **kwargs):\n",
    "        for function in self.log_functions:\n",
    "            function(**kwargs)\n",
    "    \n",
    "    def init_log_functions(self, function_list: list[str]):\n",
    "        return [self.LOG_FUNCTIONS[function_name] for function_name in function_list]\n",
    "    \n",
    "    def register_function(name: str, func_dict: dict):\n",
    "        def decorate(fnc: Callable):\n",
    "            func_dict[name] = fnc\n",
    "            return fnc\n",
    "        return decorate\n",
    "            \n",
    "    @register_function('train_loss', LOG_FUNCTIONS)\n",
    "    def log_train_loss(self, **kwargs):\n",
    "        wandb.log({'train_loss': kwargs['train_loss']})\n",
    "    "
   ]
  },
  {
   "cell_type": "code",
   "execution_count": 39,
   "metadata": {},
   "outputs": [],
   "source": [
    "run_logg = RunLogger({'wandb_init': {'one': 1}})"
   ]
  },
  {
   "cell_type": "code",
   "execution_count": 42,
   "metadata": {},
   "outputs": [
    {
     "data": {
      "text/plain": [
       "{'train_loss': <function __main__.RunLogger.log_train_loss(self, **kwargs)>}"
      ]
     },
     "execution_count": 42,
     "metadata": {},
     "output_type": "execute_result"
    }
   ],
   "source": [
    "RunLogger.LOG_FUNCTIONS"
   ]
  },
  {
   "cell_type": "code",
   "execution_count": 37,
   "metadata": {},
   "outputs": [
    {
     "ename": "Error",
     "evalue": "You must call wandb.init() before wandb.log()",
     "output_type": "error",
     "traceback": [
      "\u001b[0;31m---------------------------------------------------------------------------\u001b[0m",
      "\u001b[0;31mError\u001b[0m                                     Traceback (most recent call last)",
      "\u001b[1;32m/Users/tomhendriks/Projects/base_project/code_scraps.ipynb Cell 9\u001b[0m in \u001b[0;36m<cell line: 1>\u001b[0;34m()\u001b[0m\n\u001b[0;32m----> <a href='vscode-notebook-cell:/Users/tomhendriks/Projects/base_project/code_scraps.ipynb#X11sZmlsZQ%3D%3D?line=0'>1</a>\u001b[0m run_logg\u001b[39m.\u001b[39;49mlog_train_loss(train_loss \u001b[39m=\u001b[39;49m \u001b[39m5.0\u001b[39;49m)\n",
      "\u001b[1;32m/Users/tomhendriks/Projects/base_project/code_scraps.ipynb Cell 9\u001b[0m in \u001b[0;36mRunLogger.register_function.<locals>.decorate.<locals>.wrapper\u001b[0;34m(self, *args, **kwargs)\u001b[0m\n\u001b[1;32m     <a href='vscode-notebook-cell:/Users/tomhendriks/Projects/base_project/code_scraps.ipynb#X11sZmlsZQ%3D%3D?line=22'>23</a>\u001b[0m \u001b[39mdef\u001b[39;00m \u001b[39mwrapper\u001b[39m(\u001b[39mself\u001b[39m, \u001b[39m*\u001b[39margs, \u001b[39m*\u001b[39m\u001b[39m*\u001b[39mkwargs):\n\u001b[1;32m     <a href='vscode-notebook-cell:/Users/tomhendriks/Projects/base_project/code_scraps.ipynb#X11sZmlsZQ%3D%3D?line=23'>24</a>\u001b[0m     \u001b[39mself\u001b[39m\u001b[39m.\u001b[39mLOG_FUNCTIONS[name] \u001b[39m=\u001b[39m fnc\n\u001b[0;32m---> <a href='vscode-notebook-cell:/Users/tomhendriks/Projects/base_project/code_scraps.ipynb#X11sZmlsZQ%3D%3D?line=24'>25</a>\u001b[0m     fnc(\u001b[39mself\u001b[39;49m, \u001b[39m*\u001b[39;49margs, \u001b[39m*\u001b[39;49m\u001b[39m*\u001b[39;49mkwargs)\n",
      "\u001b[1;32m/Users/tomhendriks/Projects/base_project/code_scraps.ipynb Cell 9\u001b[0m in \u001b[0;36mRunLogger.log_train_loss\u001b[0;34m(self, **kwargs)\u001b[0m\n\u001b[1;32m     <a href='vscode-notebook-cell:/Users/tomhendriks/Projects/base_project/code_scraps.ipynb#X11sZmlsZQ%3D%3D?line=28'>29</a>\u001b[0m \u001b[39m@register_function\u001b[39m(\u001b[39m'\u001b[39m\u001b[39mtrain_loss\u001b[39m\u001b[39m'\u001b[39m)\n\u001b[1;32m     <a href='vscode-notebook-cell:/Users/tomhendriks/Projects/base_project/code_scraps.ipynb#X11sZmlsZQ%3D%3D?line=29'>30</a>\u001b[0m \u001b[39mdef\u001b[39;00m \u001b[39mlog_train_loss\u001b[39m(\u001b[39mself\u001b[39m, \u001b[39m*\u001b[39m\u001b[39m*\u001b[39mkwargs):\n\u001b[0;32m---> <a href='vscode-notebook-cell:/Users/tomhendriks/Projects/base_project/code_scraps.ipynb#X11sZmlsZQ%3D%3D?line=30'>31</a>\u001b[0m     wandb\u001b[39m.\u001b[39;49mlog({\u001b[39m'\u001b[39;49m\u001b[39mtrain_loss\u001b[39;49m\u001b[39m'\u001b[39;49m: kwargs[\u001b[39m'\u001b[39;49m\u001b[39mtrain_loss\u001b[39;49m\u001b[39m'\u001b[39;49m]})\n",
      "File \u001b[0;32m~/miniconda3/envs/base_project/lib/python3.9/site-packages/wandb/sdk/lib/preinit.py:36\u001b[0m, in \u001b[0;36mPreInitCallable.<locals>.preinit_wrapper\u001b[0;34m(*args, **kwargs)\u001b[0m\n\u001b[1;32m     35\u001b[0m \u001b[39mdef\u001b[39;00m \u001b[39mpreinit_wrapper\u001b[39m(\u001b[39m*\u001b[39margs: Any, \u001b[39m*\u001b[39m\u001b[39m*\u001b[39mkwargs: Any) \u001b[39m-\u001b[39m\u001b[39m>\u001b[39m Any:\n\u001b[0;32m---> 36\u001b[0m     \u001b[39mraise\u001b[39;00m wandb\u001b[39m.\u001b[39mError(\u001b[39mf\u001b[39m\u001b[39m\"\u001b[39m\u001b[39mYou must call wandb.init() before \u001b[39m\u001b[39m{\u001b[39;00mname\u001b[39m}\u001b[39;00m\u001b[39m()\u001b[39m\u001b[39m\"\u001b[39m)\n",
      "\u001b[0;31mError\u001b[0m: You must call wandb.init() before wandb.log()"
     ]
    }
   ],
   "source": [
    "run_logg.log_train_loss(train_loss = 5.0)"
   ]
  },
  {
   "cell_type": "code",
   "execution_count": null,
   "metadata": {},
   "outputs": [],
   "source": []
  }
 ],
 "metadata": {
  "kernelspec": {
   "display_name": "Python 3.9.13 ('base_project')",
   "language": "python",
   "name": "python3"
  },
  "language_info": {
   "codemirror_mode": {
    "name": "ipython",
    "version": 3
   },
   "file_extension": ".py",
   "mimetype": "text/x-python",
   "name": "python",
   "nbconvert_exporter": "python",
   "pygments_lexer": "ipython3",
   "version": "3.9.13"
  },
  "orig_nbformat": 4,
  "vscode": {
   "interpreter": {
    "hash": "62c7501ae95be3d7c9b3af7f32d1d6df71dccc376abc0306800cc98e9db8171a"
   }
  }
 },
 "nbformat": 4,
 "nbformat_minor": 2
}
