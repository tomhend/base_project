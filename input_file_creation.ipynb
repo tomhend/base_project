{
 "cells": [
  {
   "cell_type": "code",
   "execution_count": 20,
   "metadata": {},
   "outputs": [],
   "source": [
    "import pandas as pd\n",
    "from pathlib import Path\n",
    "from sklearn.model_selection import train_test_split"
   ]
  },
  {
   "cell_type": "code",
   "execution_count": 4,
   "metadata": {},
   "outputs": [],
   "source": [
    "PRE_PROCESS_INPUT_FILE = Path(r'L:\\basic\\divd\\nec\\SAB beelddatabank\\subsets_dicom\\aSAH_hydrocephalus\\prosab_hydrocephalus_input_csv.csv')\n",
    "SCAN_ROOT_PATH = Path(r'L:\\basic\\divd\\nec\\SAB beelddatabank\\processed_data\\prosab_hydrocephalus')"
   ]
  },
  {
   "cell_type": "code",
   "execution_count": 5,
   "metadata": {},
   "outputs": [],
   "source": [
    "pp_input_df = pd.read_csv(PRE_PROCESS_INPUT_FILE)"
   ]
  },
  {
   "cell_type": "code",
   "execution_count": 14,
   "metadata": {},
   "outputs": [],
   "source": [
    "subject_nifti_tuples = []\n",
    "for nifti_file in SCAN_ROOT_PATH.glob('**/*.nii'):\n",
    "    if 'resampled' in nifti_file.name:\n",
    "        subject = int(nifti_file.parent.parent.name)\n",
    "        subject_nifti_tuples.append((subject, nifti_file))"
   ]
  },
  {
   "cell_type": "code",
   "execution_count": 17,
   "metadata": {},
   "outputs": [],
   "source": [
    "nifti_df = pd.DataFrame(subject_nifti_tuples, columns=['subjects', 'nifti_paths'])"
   ]
  },
  {
   "cell_type": "code",
   "execution_count": 18,
   "metadata": {},
   "outputs": [],
   "source": [
    "train_input_df = pp_input_df.merge(nifti_df)"
   ]
  },
  {
   "cell_type": "code",
   "execution_count": 22,
   "metadata": {},
   "outputs": [
    {
     "data": {
      "text/html": [
       "<div>\n",
       "<style scoped>\n",
       "    .dataframe tbody tr th:only-of-type {\n",
       "        vertical-align: middle;\n",
       "    }\n",
       "\n",
       "    .dataframe tbody tr th {\n",
       "        vertical-align: top;\n",
       "    }\n",
       "\n",
       "    .dataframe thead th {\n",
       "        text-align: right;\n",
       "    }\n",
       "</style>\n",
       "<table border=\"1\" class=\"dataframe\">\n",
       "  <thead>\n",
       "    <tr style=\"text-align: right;\">\n",
       "      <th></th>\n",
       "      <th>series_name</th>\n",
       "      <th>slice_thickness</th>\n",
       "      <th>date</th>\n",
       "      <th>rebleed</th>\n",
       "      <th>rebleed_date</th>\n",
       "      <th>comment</th>\n",
       "      <th>first_scan_date</th>\n",
       "      <th>hydrocephalus</th>\n",
       "      <th>hcf_date_full</th>\n",
       "      <th>days_diff</th>\n",
       "      <th>outcomes</th>\n",
       "      <th>subjects</th>\n",
       "      <th>scan_paths</th>\n",
       "      <th>nifti_paths</th>\n",
       "    </tr>\n",
       "  </thead>\n",
       "  <tbody>\n",
       "    <tr>\n",
       "      <th>0</th>\n",
       "      <td>NaN</td>\n",
       "      <td>4.0</td>\n",
       "      <td>20111222</td>\n",
       "      <td>NaN</td>\n",
       "      <td>NaN</td>\n",
       "      <td>NaN</td>\n",
       "      <td>2011-12-22</td>\n",
       "      <td>0.0</td>\n",
       "      <td>NaN</td>\n",
       "      <td>NaN</td>\n",
       "      <td>False</td>\n",
       "      <td>11010</td>\n",
       "      <td>L:\\basic\\divd\\nec\\SAB beelddatabank\\dicoms_cle...</td>\n",
       "      <td>L:\\basic\\divd\\nec\\SAB beelddatabank\\processed_...</td>\n",
       "    </tr>\n",
       "    <tr>\n",
       "      <th>1</th>\n",
       "      <td>Brein spiraal  4.0  H40s</td>\n",
       "      <td>4.0</td>\n",
       "      <td>20111201</td>\n",
       "      <td>NaN</td>\n",
       "      <td>NaN</td>\n",
       "      <td>NaN</td>\n",
       "      <td>2011-12-01</td>\n",
       "      <td>0.0</td>\n",
       "      <td>NaN</td>\n",
       "      <td>NaN</td>\n",
       "      <td>False</td>\n",
       "      <td>11013</td>\n",
       "      <td>L:\\basic\\divd\\nec\\SAB beelddatabank\\dicoms_cle...</td>\n",
       "      <td>L:\\basic\\divd\\nec\\SAB beelddatabank\\processed_...</td>\n",
       "    </tr>\n",
       "    <tr>\n",
       "      <th>2</th>\n",
       "      <td>Brein min  5.0  H31s</td>\n",
       "      <td>5.0</td>\n",
       "      <td>20111229</td>\n",
       "      <td>NaN</td>\n",
       "      <td>NaN</td>\n",
       "      <td>NaN</td>\n",
       "      <td>2011-12-29</td>\n",
       "      <td>0.0</td>\n",
       "      <td>NaN</td>\n",
       "      <td>NaN</td>\n",
       "      <td>False</td>\n",
       "      <td>11022</td>\n",
       "      <td>L:\\basic\\divd\\nec\\SAB beelddatabank\\dicoms_cle...</td>\n",
       "      <td>L:\\basic\\divd\\nec\\SAB beelddatabank\\processed_...</td>\n",
       "    </tr>\n",
       "    <tr>\n",
       "      <th>3</th>\n",
       "      <td>Brein min  5.0  H31s</td>\n",
       "      <td>5.0</td>\n",
       "      <td>20111219</td>\n",
       "      <td>Ja, gebaseerd op plotselinge klinische verslec...</td>\n",
       "      <td>2011-12-19</td>\n",
       "      <td>Selected scan after rebleed</td>\n",
       "      <td>2011-12-18</td>\n",
       "      <td>0.0</td>\n",
       "      <td>NaN</td>\n",
       "      <td>NaN</td>\n",
       "      <td>False</td>\n",
       "      <td>11025</td>\n",
       "      <td>L:\\basic\\divd\\nec\\SAB beelddatabank\\dicoms_cle...</td>\n",
       "      <td>L:\\basic\\divd\\nec\\SAB beelddatabank\\processed_...</td>\n",
       "    </tr>\n",
       "    <tr>\n",
       "      <th>4</th>\n",
       "      <td>NaN</td>\n",
       "      <td>4.0</td>\n",
       "      <td>20120102</td>\n",
       "      <td>NaN</td>\n",
       "      <td>NaN</td>\n",
       "      <td>NaN</td>\n",
       "      <td>2012-01-02</td>\n",
       "      <td>0.0</td>\n",
       "      <td>NaN</td>\n",
       "      <td>NaN</td>\n",
       "      <td>False</td>\n",
       "      <td>12002</td>\n",
       "      <td>L:\\basic\\divd\\nec\\SAB beelddatabank\\dicoms_cle...</td>\n",
       "      <td>L:\\basic\\divd\\nec\\SAB beelddatabank\\processed_...</td>\n",
       "    </tr>\n",
       "    <tr>\n",
       "      <th>...</th>\n",
       "      <td>...</td>\n",
       "      <td>...</td>\n",
       "      <td>...</td>\n",
       "      <td>...</td>\n",
       "      <td>...</td>\n",
       "      <td>...</td>\n",
       "      <td>...</td>\n",
       "      <td>...</td>\n",
       "      <td>...</td>\n",
       "      <td>...</td>\n",
       "      <td>...</td>\n",
       "      <td>...</td>\n",
       "      <td>...</td>\n",
       "      <td>...</td>\n",
       "    </tr>\n",
       "    <tr>\n",
       "      <th>447</th>\n",
       "      <td>Brein B  5.0  MPR  ax</td>\n",
       "      <td>5.0</td>\n",
       "      <td>20200927</td>\n",
       "      <td>NaN</td>\n",
       "      <td>NaN</td>\n",
       "      <td>NaN</td>\n",
       "      <td>2020-09-27</td>\n",
       "      <td>1.0</td>\n",
       "      <td>2020-09-28</td>\n",
       "      <td>1.0</td>\n",
       "      <td>True</td>\n",
       "      <td>20103</td>\n",
       "      <td>L:\\basic\\divd\\nec\\SAB beelddatabank\\dicoms_cle...</td>\n",
       "      <td>L:\\basic\\divd\\nec\\SAB beelddatabank\\processed_...</td>\n",
       "    </tr>\n",
       "    <tr>\n",
       "      <th>448</th>\n",
       "      <td>Brein B  5.0  MPR  ax</td>\n",
       "      <td>5.0</td>\n",
       "      <td>20201010</td>\n",
       "      <td>NaN</td>\n",
       "      <td>NaN</td>\n",
       "      <td>NaN</td>\n",
       "      <td>2020-10-10</td>\n",
       "      <td>1.0</td>\n",
       "      <td>2020-10-11</td>\n",
       "      <td>1.0</td>\n",
       "      <td>True</td>\n",
       "      <td>20109</td>\n",
       "      <td>L:\\basic\\divd\\nec\\SAB beelddatabank\\dicoms_cle...</td>\n",
       "      <td>L:\\basic\\divd\\nec\\SAB beelddatabank\\processed_...</td>\n",
       "    </tr>\n",
       "    <tr>\n",
       "      <th>449</th>\n",
       "      <td>MPR Hersenen Neuro Trans</td>\n",
       "      <td>3.0</td>\n",
       "      <td>20201021</td>\n",
       "      <td>NaN</td>\n",
       "      <td>NaN</td>\n",
       "      <td>NaN</td>\n",
       "      <td>2020-10-21</td>\n",
       "      <td>1.0</td>\n",
       "      <td>2020-10-22</td>\n",
       "      <td>1.0</td>\n",
       "      <td>True</td>\n",
       "      <td>20115</td>\n",
       "      <td>L:\\basic\\divd\\nec\\SAB beelddatabank\\dicoms_cle...</td>\n",
       "      <td>L:\\basic\\divd\\nec\\SAB beelddatabank\\processed_...</td>\n",
       "    </tr>\n",
       "    <tr>\n",
       "      <th>450</th>\n",
       "      <td>Hoofd Spiraal  5.0  MPR  ax</td>\n",
       "      <td>5.0</td>\n",
       "      <td>20201110</td>\n",
       "      <td>NaN</td>\n",
       "      <td>NaN</td>\n",
       "      <td>NaN</td>\n",
       "      <td>2020-11-10</td>\n",
       "      <td>1.0</td>\n",
       "      <td>2020-11-16</td>\n",
       "      <td>6.0</td>\n",
       "      <td>True</td>\n",
       "      <td>20122</td>\n",
       "      <td>L:\\basic\\divd\\nec\\SAB beelddatabank\\dicoms_cle...</td>\n",
       "      <td>L:\\basic\\divd\\nec\\SAB beelddatabank\\processed_...</td>\n",
       "    </tr>\n",
       "    <tr>\n",
       "      <th>451</th>\n",
       "      <td>Head 4.000</td>\n",
       "      <td>4.0</td>\n",
       "      <td>20201123</td>\n",
       "      <td>NaN</td>\n",
       "      <td>NaN</td>\n",
       "      <td>NaN</td>\n",
       "      <td>2020-11-23</td>\n",
       "      <td>1.0</td>\n",
       "      <td>2020-11-24</td>\n",
       "      <td>1.0</td>\n",
       "      <td>True</td>\n",
       "      <td>20127</td>\n",
       "      <td>L:\\basic\\divd\\nec\\SAB beelddatabank\\dicoms_cle...</td>\n",
       "      <td>L:\\basic\\divd\\nec\\SAB beelddatabank\\processed_...</td>\n",
       "    </tr>\n",
       "  </tbody>\n",
       "</table>\n",
       "<p>452 rows × 14 columns</p>\n",
       "</div>"
      ],
      "text/plain": [
       "                     series_name  slice_thickness      date  \\\n",
       "0                            NaN              4.0  20111222   \n",
       "1       Brein spiraal  4.0  H40s              4.0  20111201   \n",
       "2           Brein min  5.0  H31s              5.0  20111229   \n",
       "3           Brein min  5.0  H31s              5.0  20111219   \n",
       "4                            NaN              4.0  20120102   \n",
       "..                           ...              ...       ...   \n",
       "447        Brein B  5.0  MPR  ax              5.0  20200927   \n",
       "448        Brein B  5.0  MPR  ax              5.0  20201010   \n",
       "449     MPR Hersenen Neuro Trans              3.0  20201021   \n",
       "450  Hoofd Spiraal  5.0  MPR  ax              5.0  20201110   \n",
       "451                   Head 4.000              4.0  20201123   \n",
       "\n",
       "                                               rebleed rebleed_date  \\\n",
       "0                                                  NaN          NaN   \n",
       "1                                                  NaN          NaN   \n",
       "2                                                  NaN          NaN   \n",
       "3    Ja, gebaseerd op plotselinge klinische verslec...   2011-12-19   \n",
       "4                                                  NaN          NaN   \n",
       "..                                                 ...          ...   \n",
       "447                                                NaN          NaN   \n",
       "448                                                NaN          NaN   \n",
       "449                                                NaN          NaN   \n",
       "450                                                NaN          NaN   \n",
       "451                                                NaN          NaN   \n",
       "\n",
       "                         comment first_scan_date  hydrocephalus hcf_date_full  \\\n",
       "0                            NaN      2011-12-22            0.0           NaN   \n",
       "1                            NaN      2011-12-01            0.0           NaN   \n",
       "2                            NaN      2011-12-29            0.0           NaN   \n",
       "3    Selected scan after rebleed      2011-12-18            0.0           NaN   \n",
       "4                            NaN      2012-01-02            0.0           NaN   \n",
       "..                           ...             ...            ...           ...   \n",
       "447                          NaN      2020-09-27            1.0    2020-09-28   \n",
       "448                          NaN      2020-10-10            1.0    2020-10-11   \n",
       "449                          NaN      2020-10-21            1.0    2020-10-22   \n",
       "450                          NaN      2020-11-10            1.0    2020-11-16   \n",
       "451                          NaN      2020-11-23            1.0    2020-11-24   \n",
       "\n",
       "     days_diff  outcomes  subjects  \\\n",
       "0          NaN     False     11010   \n",
       "1          NaN     False     11013   \n",
       "2          NaN     False     11022   \n",
       "3          NaN     False     11025   \n",
       "4          NaN     False     12002   \n",
       "..         ...       ...       ...   \n",
       "447        1.0      True     20103   \n",
       "448        1.0      True     20109   \n",
       "449        1.0      True     20115   \n",
       "450        6.0      True     20122   \n",
       "451        1.0      True     20127   \n",
       "\n",
       "                                            scan_paths  \\\n",
       "0    L:\\basic\\divd\\nec\\SAB beelddatabank\\dicoms_cle...   \n",
       "1    L:\\basic\\divd\\nec\\SAB beelddatabank\\dicoms_cle...   \n",
       "2    L:\\basic\\divd\\nec\\SAB beelddatabank\\dicoms_cle...   \n",
       "3    L:\\basic\\divd\\nec\\SAB beelddatabank\\dicoms_cle...   \n",
       "4    L:\\basic\\divd\\nec\\SAB beelddatabank\\dicoms_cle...   \n",
       "..                                                 ...   \n",
       "447  L:\\basic\\divd\\nec\\SAB beelddatabank\\dicoms_cle...   \n",
       "448  L:\\basic\\divd\\nec\\SAB beelddatabank\\dicoms_cle...   \n",
       "449  L:\\basic\\divd\\nec\\SAB beelddatabank\\dicoms_cle...   \n",
       "450  L:\\basic\\divd\\nec\\SAB beelddatabank\\dicoms_cle...   \n",
       "451  L:\\basic\\divd\\nec\\SAB beelddatabank\\dicoms_cle...   \n",
       "\n",
       "                                           nifti_paths  \n",
       "0    L:\\basic\\divd\\nec\\SAB beelddatabank\\processed_...  \n",
       "1    L:\\basic\\divd\\nec\\SAB beelddatabank\\processed_...  \n",
       "2    L:\\basic\\divd\\nec\\SAB beelddatabank\\processed_...  \n",
       "3    L:\\basic\\divd\\nec\\SAB beelddatabank\\processed_...  \n",
       "4    L:\\basic\\divd\\nec\\SAB beelddatabank\\processed_...  \n",
       "..                                                 ...  \n",
       "447  L:\\basic\\divd\\nec\\SAB beelddatabank\\processed_...  \n",
       "448  L:\\basic\\divd\\nec\\SAB beelddatabank\\processed_...  \n",
       "449  L:\\basic\\divd\\nec\\SAB beelddatabank\\processed_...  \n",
       "450  L:\\basic\\divd\\nec\\SAB beelddatabank\\processed_...  \n",
       "451  L:\\basic\\divd\\nec\\SAB beelddatabank\\processed_...  \n",
       "\n",
       "[452 rows x 14 columns]"
      ]
     },
     "execution_count": 22,
     "metadata": {},
     "output_type": "execute_result"
    }
   ],
   "source": [
    "train_input_df"
   ]
  },
  {
   "cell_type": "code",
   "execution_count": 26,
   "metadata": {},
   "outputs": [],
   "source": [
    "train_val_df, test_set_df = train_test_split(train_input_df, test_size=0.2)"
   ]
  },
  {
   "cell_type": "code",
   "execution_count": 28,
   "metadata": {},
   "outputs": [],
   "source": [
    "train_set_df, val_set_df = train_test_split(train_val_df, test_size=0.2)"
   ]
  },
  {
   "cell_type": "code",
   "execution_count": 29,
   "metadata": {},
   "outputs": [],
   "source": [
    "train_set_df.to_csv('./input_files/nifti_input_train.csv', index=False)\n",
    "val_set_df.to_csv('./input_files/nifti_input_val.csv', index=False)\n",
    "test_set_df.to_csv('./input_files/nifti_input_test.csv', index=False)"
   ]
  },
  {
   "cell_type": "code",
   "execution_count": 30,
   "metadata": {},
   "outputs": [
    {
     "data": {
      "text/plain": [
       "False    209\n",
       "True      79\n",
       "Name: outcomes, dtype: int64"
      ]
     },
     "execution_count": 30,
     "metadata": {},
     "output_type": "execute_result"
    }
   ],
   "source": [
    "train_set_df['outcomes'].value_counts()"
   ]
  },
  {
   "cell_type": "code",
   "execution_count": 31,
   "metadata": {},
   "outputs": [
    {
     "data": {
      "text/plain": [
       "False    46\n",
       "True     27\n",
       "Name: outcomes, dtype: int64"
      ]
     },
     "execution_count": 31,
     "metadata": {},
     "output_type": "execute_result"
    }
   ],
   "source": [
    "val_set_df['outcomes'].value_counts()"
   ]
  },
  {
   "cell_type": "code",
   "execution_count": 32,
   "metadata": {},
   "outputs": [
    {
     "data": {
      "text/plain": [
       "False    67\n",
       "True     24\n",
       "Name: outcomes, dtype: int64"
      ]
     },
     "execution_count": 32,
     "metadata": {},
     "output_type": "execute_result"
    }
   ],
   "source": [
    "test_set_df['outcomes'].value_counts()"
   ]
  },
  {
   "cell_type": "code",
   "execution_count": null,
   "metadata": {},
   "outputs": [],
   "source": []
  }
 ],
 "metadata": {
  "kernelspec": {
   "display_name": "Python 3.9.13 ('base_project')",
   "language": "python",
   "name": "python3"
  },
  "language_info": {
   "codemirror_mode": {
    "name": "ipython",
    "version": 3
   },
   "file_extension": ".py",
   "mimetype": "text/x-python",
   "name": "python",
   "nbconvert_exporter": "python",
   "pygments_lexer": "ipython3",
   "version": "3.9.13"
  },
  "orig_nbformat": 4,
  "vscode": {
   "interpreter": {
    "hash": "45dc21fe3e57fbeb70a1ab72f56557a18d3d5a34c2a2b72544ed488fed453a1c"
   }
  }
 },
 "nbformat": 4,
 "nbformat_minor": 2
}
