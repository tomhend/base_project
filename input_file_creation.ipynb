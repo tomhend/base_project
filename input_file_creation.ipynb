{
 "cells": [
  {
   "cell_type": "code",
   "execution_count": 2,
   "metadata": {},
   "outputs": [],
   "source": [
    "import pandas as pd\n",
    "from pathlib import Path"
   ]
  },
  {
   "cell_type": "code",
   "execution_count": null,
   "metadata": {},
   "outputs": [],
   "source": [
    "PROSAB_EXTRACT_PATH = Path('G:\\divd\\nec\\Wetenschapstages\\THendriks\\export_PROSAB_merged_13102022_TomHendriks.sav')\n",
    "SCAN_ROOT_PATH = Path('L:\\basic\\divd\\nec\\SAB beelddatabank\\processed_data\\example')"
   ]
  }
 ],
 "metadata": {
  "kernelspec": {
   "display_name": "Python 3.9.13 ('base_project')",
   "language": "python",
   "name": "python3"
  },
  "language_info": {
   "codemirror_mode": {
    "name": "ipython",
    "version": 3
   },
   "file_extension": ".py",
   "mimetype": "text/x-python",
   "name": "python",
   "nbconvert_exporter": "python",
   "pygments_lexer": "ipython3",
   "version": "3.9.13"
  },
  "orig_nbformat": 4,
  "vscode": {
   "interpreter": {
    "hash": "45dc21fe3e57fbeb70a1ab72f56557a18d3d5a34c2a2b72544ed488fed453a1c"
   }
  }
 },
 "nbformat": 4,
 "nbformat_minor": 2
}
